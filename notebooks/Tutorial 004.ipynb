{
 "cells": [
  {
   "cell_type": "code",
   "execution_count": 1,
   "metadata": {},
   "outputs": [],
   "source": [
    "import numpy as np\n",
    "import tensorflow as tf\n",
    "import matplotlib.pyplot as plt\n",
    "\n",
    "from datetime import datetime as dt\n",
    "import os\n",
    "\n",
    "def getNow():\n",
    "    now       = dt.now().strftime('%Y-%m-%d--%H-%M-%S')\n",
    "    nowFolder = os.path.join('./logFolder', now)\n",
    "    return nowFolder"
   ]
  },
  {
   "cell_type": "code",
   "execution_count": 2,
   "metadata": {},
   "outputs": [],
   "source": [
    "tf.reset_default_graph()"
   ]
  },
  {
   "cell_type": "code",
   "execution_count": 3,
   "metadata": {},
   "outputs": [],
   "source": [
    "N = 1000\n",
    "X = np.random.rand(N, 2)\n",
    "y = 2*X[:, 0] + 3*X[:, 1] + 4 + 0.1*(np.random.rand(N)-0.5)\n",
    "y = y.reshape((-1, 1))\n",
    "tMask = np.random.choice([True, False], (N,), p=[0.8, 0.2])"
   ]
  },
  {
   "cell_type": "code",
   "execution_count": 4,
   "metadata": {},
   "outputs": [
    {
     "name": "stdout",
     "output_type": "stream",
     "text": [
      "WARNING:tensorflow:From /Users/sankhamukherjee/Documents/Tutorial/basic Tensorflow tutorial/env/lib/python3.7/site-packages/tensorflow/python/framework/op_def_library.py:263: colocate_with (from tensorflow.python.framework.ops) is deprecated and will be removed in a future version.\n",
      "Instructions for updating:\n",
      "Colocations handled automatically by placer.\n"
     ]
    }
   ],
   "source": [
    "with tf.variable_scope('trainData'):\n",
    "    inpTrain = tf.placeholder(dtype=tf.float32, shape=(None, 2), name='inpTrain')\n",
    "    outTrain = tf.placeholder(dtype=tf.float32, shape=(None, 1), name='outTrain')\n",
    "\n",
    "with tf.variable_scope('testData'):\n",
    "    inpTest = tf.placeholder(dtype=tf.float32, shape=(None, 2), name='inpTest')\n",
    "    outTest = tf.placeholder(dtype=tf.float32, shape=(None, 1), name='outTest')\n",
    "\n",
    "with tf.variable_scope('model'):\n",
    "    W = tf.Variable(initial_value=np.random.rand(2, 1), name='W', dtype=tf.float32)\n",
    "    b = tf.Variable(initial_value=0, name='b', dtype=tf.float32)\n",
    "\n",
    "    with tf.variable_scope('train'):\n",
    "        yHatTrain = tf.matmul(inpTrain,  W )+ b\n",
    "        errTrain  = tf.reduce_mean((outTrain - yHatTrain)**2, name='errTrain')\n",
    "        \n",
    "    with tf.variable_scope('test'):\n",
    "        yHatTest = tf.matmul(inpTest,  W )+ b\n",
    "        errTest  = tf.reduce_mean((outTest - yHatTest)**2, name='errTest')\n",
    "\n",
    "with tf.variable_scope('optimizer'):\n",
    "    lr = tf.Variable(0.01, dtype=tf.float32, name='learningRate')\n",
    "    opt = tf.train.AdamOptimizer(learning_rate=lr).minimize(errTrain)\n",
    "\n",
    "init = tf.global_variables_initializer()"
   ]
  },
  {
   "cell_type": "code",
   "execution_count": 5,
   "metadata": {},
   "outputs": [
    {
     "name": "stdout",
     "output_type": "stream",
     "text": [
      "Training: 40.29877471923828, Testing: 40.64850997924805\n",
      "Training: 19.58721351623535, Testing: 19.752025604248047\n",
      "Training: 8.304112434387207, Testing: 8.367670059204102\n",
      "Training: 3.0473554134368896, Testing: 3.063396692276001\n",
      "Training: 0.9970974922180176, Testing: 0.9944819211959839\n",
      "Training: 0.33822399377822876, Testing: 0.32972249388694763\n",
      "Training: 0.16195061802864075, Testing: 0.152193084359169\n",
      "Training: 0.11852984130382538, Testing: 0.10893143713474274\n",
      "Training: 0.10413378477096558, Testing: 0.09508880972862244\n",
      "Training: 0.09480762481689453, Testing: 0.08642720431089401\n",
      "Training: 0.08628194034099579, Testing: 0.07859578728675842\n",
      "Training: 0.07802779227495193, Testing: 0.0710354745388031\n",
      "Training: 0.07006215304136276, Testing: 0.06374838948249817\n",
      "Training: 0.062452010810375214, Testing: 0.05679236724972725\n",
      "Training: 0.05525629594922066, Testing: 0.05021993815898895\n",
      "Training: 0.04852062091231346, Testing: 0.044071998447179794\n",
      "Training: 0.042277880012989044, Testing: 0.038377996534109116\n",
      "Training: 0.03654845058917999, Testing: 0.03315580636262894\n",
      "Training: 0.03134164214134216, Testing: 0.02841339446604252\n",
      "Training: 0.026656607165932655, Testing: 0.024149423465132713\n",
      "Training: 0.022483328357338905, Testing: 0.02035427838563919\n",
      "Training: 0.018804144114255905, Testing: 0.017011458054184914\n",
      "Training: 0.015594837255775928, Testing: 0.014098507352173328\n",
      "Training: 0.01282606739550829, Testing: 0.01158838253468275\n",
      "Training: 0.010464441031217575, Testing: 0.009450397454202175\n",
      "Training: 0.008473873138427734, Testing: 0.007651421241462231\n",
      "Training: 0.006816640496253967, Testing: 0.0061568329110741615\n",
      "Training: 0.005454806610941887, Testing: 0.004931860137730837\n",
      "Training: 0.004350809846073389, Testing: 0.003942054696381092\n",
      "Training: 0.0034685416612774134, Testing: 0.003154278500005603\n",
      "Training: 0.0027739733923226595, Testing: 0.0025373026728630066\n",
      "Training: 0.0022357231937348843, Testing: 0.002062317682430148\n",
      "Training: 0.0018254907336086035, Testing: 0.001703325193375349\n",
      "Training: 0.001518244855105877, Testing: 0.0014373352751135826\n",
      "Training: 0.001292326138354838, Testing: 0.0012444551102817059\n",
      "Training: 0.0011293839197605848, Testing: 0.0011078518582507968\n",
      "Training: 0.0010142386890947819, Testing: 0.001013613073155284\n",
      "Training: 0.0009345979779027402, Testing: 0.0009504965273663402\n",
      "Training: 0.000880745705217123, Testing: 0.000909668393433094\n",
      "Training: 0.0008451859466731548, Testing: 0.0008843212854117155\n",
      "Training: 0.0008222822798416018, Testing: 0.0008693963754922152\n",
      "Training: 0.0008079175022430718, Testing: 0.0008612301899120212\n",
      "Training: 0.0007991548045538366, Testing: 0.0008572548977099359\n",
      "Training: 0.0007939616334624588, Testing: 0.0008557254332117736\n",
      "Training: 0.0007909768610261381, Testing: 0.0008555234526284039\n",
      "Training: 0.0007893178844824433, Testing: 0.000855952559504658\n",
      "Training: 0.0007884252117946744, Testing: 0.0008566100732423365\n",
      "Training: 0.0007879631593823433, Testing: 0.0008572768419981003\n",
      "Training: 0.0007877322495914996, Testing: 0.0008578600245527923\n",
      "Training: 0.0007876206072978675, Testing: 0.0008583259768784046\n",
      "Training: 0.0007875701994635165, Testing: 0.0008586600888520479\n",
      "Final Values\n",
      "------------------------------\n",
      "Training: 0.0007875701994635165, Testing: 0.0008586600888520479\n",
      "tensorboard --logdir=./logFolder/2019-05-10--16-22-34\n"
     ]
    }
   ],
   "source": [
    "folder = getNow()\n",
    "\n",
    "with tf.Session() as sess:\n",
    "    writer = tf.summary.FileWriter(folder, sess.graph)\n",
    "    sess.run(init)\n",
    "    \n",
    "    for i in range(5001):\n",
    "        sess.run( opt, feed_dict={\n",
    "            inpTrain : X[tMask, :],\n",
    "            outTrain : y[tMask, :],\n",
    "            lr       : 0.01\n",
    "             })\n",
    "        \n",
    "        if (i % 100) == 0:\n",
    "            errTrainVal, errTestVal = sess.run( [errTrain, errTest], feed_dict={\n",
    "                inpTrain : X[tMask, :],\n",
    "                outTrain : y[tMask, :],\n",
    "                inpTest : X[~tMask, :],\n",
    "                outTest : y[~tMask, :]})\n",
    "            print('Training: {}, Testing: {}'.format(errTrainVal, errTestVal))\n",
    "            \n",
    "    \n",
    "    writer.close()\n",
    "\n",
    "print('Final Values')\n",
    "print('-'*30)\n",
    "print('Training: {}, Testing: {}'.format(errTrainVal, errTestVal))\n",
    "    \n",
    "print('tensorboard --logdir={}'.format( folder ))"
   ]
  },
  {
   "cell_type": "code",
   "execution_count": null,
   "metadata": {
    "collapsed": true
   },
   "outputs": [],
   "source": []
  }
 ],
 "metadata": {
  "kernelspec": {
   "display_name": "Python 3",
   "language": "python",
   "name": "python3"
  },
  "language_info": {
   "codemirror_mode": {
    "name": "ipython",
    "version": 3
   },
   "file_extension": ".py",
   "mimetype": "text/x-python",
   "name": "python",
   "nbconvert_exporter": "python",
   "pygments_lexer": "ipython3",
   "version": "3.7.3"
  }
 },
 "nbformat": 4,
 "nbformat_minor": 2
}
