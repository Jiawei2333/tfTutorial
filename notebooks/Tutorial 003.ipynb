{
 "cells": [
  {
   "cell_type": "code",
   "execution_count": 1,
   "metadata": {},
   "outputs": [],
   "source": [
    "import numpy as np\n",
    "import tensorflow as tf\n",
    "import matplotlib.pyplot as plt\n",
    "\n",
    "from datetime import datetime as dt\n",
    "import os\n",
    "\n",
    "def getNow():\n",
    "    now       = dt.now().strftime('%Y-%m-%d--%H-%M-%S')\n",
    "    nowFolder = os.path.join('./logFolder', now)\n",
    "    return nowFolder"
   ]
  },
  {
   "cell_type": "code",
   "execution_count": 2,
   "metadata": {},
   "outputs": [],
   "source": [
    "tf.reset_default_graph()"
   ]
  },
  {
   "cell_type": "code",
   "execution_count": 3,
   "metadata": {},
   "outputs": [],
   "source": [
    "X = np.random.rand(100, 2)\n",
    "y = 2*X[:, 0] + 3*X[:, 1] + 4\n",
    "y = y.reshape((-1, 1))"
   ]
  },
  {
   "cell_type": "code",
   "execution_count": 4,
   "metadata": {},
   "outputs": [
    {
     "name": "stdout",
     "output_type": "stream",
     "text": [
      "WARNING:tensorflow:From /Users/sankhamukherjee/Documents/Tutorial/basic Tensorflow tutorial/env/lib/python3.7/site-packages/tensorflow/python/framework/op_def_library.py:263: colocate_with (from tensorflow.python.framework.ops) is deprecated and will be removed in a future version.\n",
      "Instructions for updating:\n",
      "Colocations handled automatically by placer.\n"
     ]
    }
   ],
   "source": [
    "inp = tf.placeholder(dtype=tf.float32, shape=(None, 2), name='inp')\n",
    "out = tf.placeholder(dtype=tf.float32, shape=(None, 1), name='out')\n",
    "\n",
    "W = tf.Variable(initial_value=np.random.rand(2, 1), name='W', dtype=tf.float32)\n",
    "b = tf.Variable(initial_value=0, name='b', dtype=tf.float32)\n",
    "\n",
    "yHat = tf.matmul(inp,  W )+ b\n",
    "err  = tf.reduce_mean((out - yHat)**2, name='err')\n",
    "\n",
    "opt = tf.train.AdamOptimizer(learning_rate=0.01).minimize(err)\n",
    "\n",
    "init = tf.global_variables_initializer()"
   ]
  },
  {
   "cell_type": "code",
   "execution_count": 5,
   "metadata": {},
   "outputs": [
    {
     "name": "stdout",
     "output_type": "stream",
     "text": [
      "38.878437\n",
      "tensorboard --logdir=./logFolder/2019-05-10--16-17-06\n"
     ]
    }
   ],
   "source": [
    "folder = getNow()\n",
    "\n",
    "with tf.Session() as sess:\n",
    "    writer = tf.summary.FileWriter(folder, sess.graph)\n",
    "    sess.run(init)\n",
    "    errVal = sess.run( err, feed_dict={\n",
    "        inp : X,\n",
    "        out : y\n",
    "         })\n",
    "    writer.close()\n",
    "\n",
    "print(errVal)\n",
    "    \n",
    "print('tensorboard --logdir={}'.format( folder ))"
   ]
  },
  {
   "cell_type": "markdown",
   "metadata": {},
   "source": [
    "## Variables persist between sessions"
   ]
  },
  {
   "cell_type": "code",
   "execution_count": 6,
   "metadata": {},
   "outputs": [
    {
     "name": "stdout",
     "output_type": "stream",
     "text": [
      "38.878437\n",
      "19.314968\n",
      "8.434456\n",
      "3.2126846\n",
      "1.0920552\n",
      "0.37444124\n",
      "0.17039292\n",
      "0.11728361\n",
      "0.09984911\n",
      "0.08933386\n",
      "0.08012132\n",
      "0.07140685\n",
      "0.06315858\n",
      "0.05542658\n",
      "0.048253126\n",
      "0.041664142\n",
      "0.03567117\n",
      "0.030272916\n",
      "0.025457598\n",
      "0.021204317\n",
      "0.017485596\n",
      "0.0142679345\n",
      "0.0115140835\n",
      "0.009183874\n",
      "0.0072355904\n",
      "0.0056270747\n",
      "0.0043166084\n",
      "0.003263861\n",
      "0.002430504\n",
      "0.0017811054\n",
      "0.0012833113\n",
      "0.0009083118\n",
      "0.00063093024\n",
      "0.00042968392\n",
      "0.00028659694\n",
      "0.00018702094\n",
      "0.00011925449\n",
      "7.4220734e-05\n",
      "4.5025703e-05\n",
      "2.6591515e-05\n",
      "1.526499e-05\n",
      "8.505056e-06\n",
      "4.591954e-06\n",
      "2.3988139e-06\n",
      "1.210093e-06\n",
      "5.88274e-07\n",
      "2.7490154e-07\n",
      "1.2337135e-07\n",
      "5.3083482e-08\n",
      "2.179173e-08\n",
      "8.483073e-09\n",
      "8.483073e-09\n",
      "[[2.0002208]\n",
      " [3.000216 ]]\n",
      "3.9997797\n",
      "tensorboard --logdir=./logFolder/2019-05-10--16-18-55\n"
     ]
    }
   ],
   "source": [
    "folder = getNow()\n",
    "\n",
    "with tf.Session() as sess:\n",
    "    writer = tf.summary.FileWriter(folder, sess.graph)\n",
    "    sess.run(init)\n",
    "    \n",
    "    for i in range(5001):\n",
    "        _, errVal, WVal, bVal = sess.run( [opt, err, W, b], feed_dict={\n",
    "            inp : X,\n",
    "            out : y\n",
    "             })\n",
    "        \n",
    "        if (i % 100) == 0:\n",
    "            print(errVal)\n",
    "    \n",
    "    writer.close()\n",
    "\n",
    "print(errVal)\n",
    "print(WVal)\n",
    "print(bVal)\n",
    "    \n",
    "print('tensorboard --logdir={}'.format( folder ))"
   ]
  },
  {
   "cell_type": "code",
   "execution_count": null,
   "metadata": {
    "collapsed": true
   },
   "outputs": [],
   "source": []
  }
 ],
 "metadata": {
  "kernelspec": {
   "display_name": "Python 3",
   "language": "python",
   "name": "python3"
  },
  "language_info": {
   "codemirror_mode": {
    "name": "ipython",
    "version": 3
   },
   "file_extension": ".py",
   "mimetype": "text/x-python",
   "name": "python",
   "nbconvert_exporter": "python",
   "pygments_lexer": "ipython3",
   "version": "3.7.3"
  }
 },
 "nbformat": 4,
 "nbformat_minor": 2
}
