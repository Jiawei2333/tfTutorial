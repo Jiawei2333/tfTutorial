{
 "cells": [
  {
   "cell_type": "code",
   "execution_count": 1,
   "metadata": {},
   "outputs": [],
   "source": [
    "import numpy as np\n",
    "import tensorflow as tf\n",
    "import matplotlib.pyplot as plt\n",
    "\n",
    "from datetime import datetime as dt\n",
    "import os\n",
    "\n",
    "def getNow(folder='logFolder'):\n",
    "    now       = dt.now().strftime('%Y-%m-%d--%H-%M-%S')\n",
    "    nowFolder = os.path.join('./{}'.format(folder), now)\n",
    "    return nowFolder"
   ]
  },
  {
   "cell_type": "code",
   "execution_count": 2,
   "metadata": {},
   "outputs": [],
   "source": [
    "N = 1000\n",
    "X = np.random.rand(N, 2)\n",
    "y = 2*X[:, 0] + 3*X[:, 1] + 4 + 0.1*(np.random.rand(N)-0.5)\n",
    "y = y.reshape((-1, 1))"
   ]
  },
  {
   "cell_type": "markdown",
   "metadata": {},
   "source": [
    "### Loading a previous graph"
   ]
  },
  {
   "cell_type": "code",
   "execution_count": 3,
   "metadata": {},
   "outputs": [],
   "source": [
    "tf.reset_default_graph()\n",
    "savePath = './models/2019-05-10--16-40-09/model.ckpt'\n",
    "saver = tf.train.import_meta_graph(savePath + '.meta')"
   ]
  },
  {
   "cell_type": "code",
   "execution_count": 4,
   "metadata": {},
   "outputs": [
    {
     "name": "stdout",
     "output_type": "stream",
     "text": [
      "tensorboard --logdir=./logFolder/2019-05-10--16-47-50\n"
     ]
    }
   ],
   "source": [
    "summaryFolder = getNow()\n",
    "\n",
    "with tf.Session() as sess:\n",
    "    writer = tf.summary.FileWriter(summaryFolder, sess.graph)\n",
    "    writer.close()\n",
    "    \n",
    "print('tensorboard --logdir={}'.format( summaryFolder ))"
   ]
  },
  {
   "cell_type": "markdown",
   "metadata": {},
   "source": [
    "### Without loading preivous state"
   ]
  },
  {
   "cell_type": "code",
   "execution_count": 2,
   "metadata": {
    "collapsed": true
   },
   "outputs": [],
   "source": [
    "tf.reset_default_graph()\n",
    "savePath = './models/2018-06-28--15-49-55/model.ckpt'\n",
    "saver = tf.train.import_meta_graph(savePath + '.meta')"
   ]
  },
  {
   "cell_type": "code",
   "execution_count": 5,
   "metadata": {},
   "outputs": [
    {
     "name": "stdout",
     "output_type": "stream",
     "text": [
      "2.7633426\n"
     ]
    }
   ],
   "source": [
    "with tf.Session() as sess:\n",
    "    sess.run('misc/init')\n",
    "    errVal = sess.run( 'model/err:0', feed_dict={\n",
    "            'io/inp:0' : X, 'io/out:0' : y})\n",
    "\n",
    "print(errVal)"
   ]
  },
  {
   "cell_type": "markdown",
   "metadata": {},
   "source": [
    "### Run the optimizer"
   ]
  },
  {
   "cell_type": "code",
   "execution_count": 6,
   "metadata": {},
   "outputs": [
    {
     "name": "stdout",
     "output_type": "stream",
     "text": [
      "0.0008152597\n"
     ]
    }
   ],
   "source": [
    "with tf.Session() as sess:\n",
    "    sess.run('misc/init')\n",
    "    for i in range(1000):\n",
    "        sess.run( 'optimizers/Adam', feed_dict={\n",
    "            'io/inp:0' : X, 'io/out:0' : y})\n",
    "        \n",
    "    errVal = sess.run( 'model/err:0', feed_dict={\n",
    "            'io/inp:0' : X, 'io/out:0' : y})\n",
    "\n",
    "print(errVal)"
   ]
  },
  {
   "cell_type": "markdown",
   "metadata": {},
   "source": [
    "### After loading previous state"
   ]
  },
  {
   "cell_type": "code",
   "execution_count": 9,
   "metadata": {},
   "outputs": [],
   "source": [
    "tf.reset_default_graph()\n",
    "savePath = './models/2019-05-10--16-40-09/model.ckpt'\n",
    "saver = tf.train.import_meta_graph(savePath + '.meta')"
   ]
  },
  {
   "cell_type": "code",
   "execution_count": 10,
   "metadata": {},
   "outputs": [
    {
     "name": "stdout",
     "output_type": "stream",
     "text": [
      "WARNING:tensorflow:From /Users/sankhamukherjee/Documents/Tutorial/basic Tensorflow tutorial/env/lib/python3.7/site-packages/tensorflow/python/training/saver.py:1266: checkpoint_exists (from tensorflow.python.training.checkpoint_management) is deprecated and will be removed in a future version.\n",
      "Instructions for updating:\n",
      "Use standard file APIs to check for files with this prefix.\n",
      "INFO:tensorflow:Restoring parameters from ./models/2019-05-10--16-40-09/model.ckpt\n",
      "0.0008173431\n"
     ]
    }
   ],
   "source": [
    "with tf.Session() as sess:\n",
    "    sess.run('misc/init')\n",
    "    saver.restore(sess, savePath)\n",
    "    errVal = sess.run( 'model/err:0', feed_dict={\n",
    "            'io/inp:0' : X, 'io/out:0' : y})\n",
    "    \n",
    "print(errVal)"
   ]
  },
  {
   "cell_type": "markdown",
   "metadata": {},
   "source": [
    "### Get variables"
   ]
  },
  {
   "cell_type": "code",
   "execution_count": 12,
   "metadata": {},
   "outputs": [],
   "source": [
    "tf.reset_default_graph()\n",
    "savePath = './models/2019-05-10--16-40-09/model.ckpt'\n",
    "saver = tf.train.import_meta_graph(savePath + '.meta')"
   ]
  },
  {
   "cell_type": "code",
   "execution_count": 13,
   "metadata": {},
   "outputs": [
    {
     "name": "stdout",
     "output_type": "stream",
     "text": [
      "INFO:tensorflow:Restoring parameters from ./models/2019-05-10--16-40-09/model.ckpt\n",
      "0.0008173431\n"
     ]
    }
   ],
   "source": [
    "graph = tf.get_default_graph()\n",
    "err   = graph.get_tensor_by_name('model/err:0')\n",
    "inp   = graph.get_tensor_by_name('io/inp:0')\n",
    "out   = graph.get_tensor_by_name('io/out:0')\n",
    "\n",
    "with tf.Session() as sess:\n",
    "    sess.run('misc/init')\n",
    "    saver.restore(sess, savePath)\n",
    "    errVal = sess.run( err, feed_dict={\n",
    "            inp : X, out : y})\n",
    "    \n",
    "print(errVal)"
   ]
  },
  {
   "cell_type": "markdown",
   "metadata": {},
   "source": [
    "### Using the graph collections"
   ]
  },
  {
   "cell_type": "code",
   "execution_count": 15,
   "metadata": {},
   "outputs": [],
   "source": [
    "graph = tf.get_default_graph()\n",
    "variables = graph.get_collection(tf.GraphKeys.TRAINABLE_VARIABLES)"
   ]
  },
  {
   "cell_type": "code",
   "execution_count": 16,
   "metadata": {},
   "outputs": [
    {
     "data": {
      "text/plain": [
       "['model/layer_00000/W:0',\n",
       " 'model/layer_00000/b:0',\n",
       " 'model/layer_00001/W:0',\n",
       " 'model/layer_00001/b:0',\n",
       " 'model/layer_00002/W:0',\n",
       " 'model/layer_00002/b:0']"
      ]
     },
     "execution_count": 16,
     "metadata": {},
     "output_type": "execute_result"
    }
   ],
   "source": [
    "[v.name  for v in variables]"
   ]
  },
  {
   "cell_type": "code",
   "execution_count": 17,
   "metadata": {},
   "outputs": [
    {
     "name": "stdout",
     "output_type": "stream",
     "text": [
      "WARNING:tensorflow:From /Users/sankhamukherjee/Documents/Tutorial/basic Tensorflow tutorial/env/lib/python3.7/site-packages/tensorflow/python/util/decorator_utils.py:145: GraphKeys.VARIABLES (from tensorflow.python.framework.ops) is deprecated and will be removed in a future version.\n",
      "Instructions for updating:\n",
      "Use `tf.GraphKeys.GLOBAL_VARIABLES` instead.\n"
     ]
    },
    {
     "data": {
      "text/plain": [
       "['model/layer_00000/W:0',\n",
       " 'model/layer_00000/b:0',\n",
       " 'model/layer_00001/W:0',\n",
       " 'model/layer_00001/b:0',\n",
       " 'model/layer_00002/W:0',\n",
       " 'model/layer_00002/b:0',\n",
       " 'optimizers/beta1_power:0',\n",
       " 'optimizers/beta2_power:0',\n",
       " 'optimizers/model/layer_00000/W/Adam:0',\n",
       " 'optimizers/model/layer_00000/W/Adam_1:0',\n",
       " 'optimizers/model/layer_00000/b/Adam:0',\n",
       " 'optimizers/model/layer_00000/b/Adam_1:0',\n",
       " 'optimizers/model/layer_00001/W/Adam:0',\n",
       " 'optimizers/model/layer_00001/W/Adam_1:0',\n",
       " 'optimizers/model/layer_00001/b/Adam:0',\n",
       " 'optimizers/model/layer_00001/b/Adam_1:0',\n",
       " 'optimizers/model/layer_00002/W/Adam:0',\n",
       " 'optimizers/model/layer_00002/W/Adam_1:0',\n",
       " 'optimizers/model/layer_00002/b/Adam:0',\n",
       " 'optimizers/model/layer_00002/b/Adam_1:0']"
      ]
     },
     "execution_count": 17,
     "metadata": {},
     "output_type": "execute_result"
    }
   ],
   "source": [
    "[v.name for v in graph.get_collection(tf.GraphKeys.VARIABLES)]"
   ]
  },
  {
   "cell_type": "markdown",
   "metadata": {},
   "source": [
    "### Getting the variable values"
   ]
  },
  {
   "cell_type": "code",
   "execution_count": 18,
   "metadata": {},
   "outputs": [
    {
     "name": "stdout",
     "output_type": "stream",
     "text": [
      "INFO:tensorflow:Restoring parameters from ./models/2019-05-10--16-40-09/model.ckpt\n",
      "model/layer_00000/W:0\n",
      "[[ 0.7627492  -0.00313599  0.3321067   0.46822044  0.06968354  0.36907607\n",
      "   0.3505179   0.13753852  0.09524152  0.28487554]\n",
      " [ 0.75459844 -0.02262615  0.60972726  0.62974614  0.4918534   0.3288203\n",
      "   0.27999717  0.21252342  0.68116593  0.47014427]]\n",
      "model/layer_00000/b:0\n",
      "[[0.30853215 0.37037417 0.35271388 0.34599015 0.3488921  0.3471873\n",
      "  0.3521927  0.3590715  0.3331551  0.34924993]]\n",
      "model/layer_00001/W:0\n",
      "[[-4.23153155e-02 -1.51918232e-01  5.67491353e-02  4.97146398e-01\n",
      "   3.27696145e-01]\n",
      " [ 4.43276197e-01  7.92495131e-01  4.50465530e-01  6.66887820e-01\n",
      "   8.89209449e-01]\n",
      " [ 2.97447681e-01  7.85757542e-01  5.33800840e-01  5.46275496e-01\n",
      "   3.97464544e-01]\n",
      " [ 4.58038628e-01  6.31498992e-01  1.50634989e-01  1.72377691e-01\n",
      "   6.55393124e-01]\n",
      " [ 9.04999793e-01  1.00471884e-01  3.95871907e-01  9.87170413e-02\n",
      "  -7.67018530e-04]\n",
      " [ 4.95717168e-01  4.09693539e-01  2.68080175e-01  4.18527961e-01\n",
      "   4.63561863e-01]\n",
      " [-6.63939957e-03  4.81696844e-01  7.43377686e-01  8.53320062e-01\n",
      "   3.40127110e-01]\n",
      " [ 8.74976575e-01  4.21587139e-01  9.31995809e-01  6.73706353e-01\n",
      "   6.47620717e-03]\n",
      " [ 2.41649121e-01 -7.28710145e-02  1.69280291e-01  4.74017411e-01\n",
      "   3.09454560e-01]\n",
      " [ 1.73415184e-01  8.59781325e-01  2.13005822e-02  1.88650787e-01\n",
      "   7.58746684e-01]]\n",
      "model/layer_00001/b:0\n",
      "[[0.36288783 0.36943692 0.36723453 0.36166507 0.34459865]]\n",
      "model/layer_00002/W:0\n",
      "[[0.32102868]\n",
      " [0.6854019 ]\n",
      " [0.48035887]\n",
      " [0.3544004 ]\n",
      " [0.15282455]]\n",
      "model/layer_00002/b:0\n",
      "[[0.3772547]]\n"
     ]
    }
   ],
   "source": [
    "with tf.Session() as sess:\n",
    "    saver.restore(sess, savePath)\n",
    "    for v in graph.get_collection(tf.GraphKeys.TRAINABLE_VARIABLES):\n",
    "        print(v.name)\n",
    "        print(sess.run(v))"
   ]
  },
  {
   "cell_type": "markdown",
   "metadata": {},
   "source": [
    "## Transfer Learning"
   ]
  },
  {
   "cell_type": "code",
   "execution_count": 20,
   "metadata": {},
   "outputs": [],
   "source": [
    "tf.reset_default_graph()\n",
    "savePath = './models/2019-05-10--16-40-09/model.ckpt'\n",
    "saver = tf.train.import_meta_graph(savePath + '.meta')"
   ]
  },
  {
   "cell_type": "code",
   "execution_count": 21,
   "metadata": {},
   "outputs": [],
   "source": [
    "graph = tf.get_default_graph()\n",
    "err   = graph.get_tensor_by_name('model/err:0')\n",
    "inp   = graph.get_tensor_by_name('io/inp:0')\n",
    "out   = graph.get_tensor_by_name('io/out:0')"
   ]
  },
  {
   "cell_type": "code",
   "execution_count": 22,
   "metadata": {},
   "outputs": [
    {
     "name": "stdout",
     "output_type": "stream",
     "text": [
      "model/layer_00000/W:0\n",
      "model/layer_00000/b:0\n",
      "model/layer_00001/W:0\n",
      "model/layer_00001/b:0\n",
      "model/layer_00002/W:0\n",
      "model/layer_00002/b:0\n"
     ]
    }
   ],
   "source": [
    "for v in graph.get_collection(tf.GraphKeys.TRAINABLE_VARIABLES):\n",
    "    print(v.name)"
   ]
  },
  {
   "cell_type": "code",
   "execution_count": 23,
   "metadata": {},
   "outputs": [
    {
     "name": "stdout",
     "output_type": "stream",
     "text": [
      "WARNING:tensorflow:From /Users/sankhamukherjee/Documents/Tutorial/basic Tensorflow tutorial/env/lib/python3.7/site-packages/tensorflow/python/ops/control_flow_ops.py:3632: colocate_with (from tensorflow.python.framework.ops) is deprecated and will be removed in a future version.\n",
      "Instructions for updating:\n",
      "Colocations handled automatically by placer.\n"
     ]
    }
   ],
   "source": [
    "varsToTrain = [v for v in graph.get_collection(tf.GraphKeys.TRAINABLE_VARIABLES) if 'model/layer_00002' in v.name]\n",
    "with tf.variable_scope('new_opt'):\n",
    "    opt = tf.train.AdamOptimizer(learning_rate=0.01).minimize(err, var_list=varsToTrain)\n",
    "    \n",
    "with tf.variable_scope('new_misc'):\n",
    "    init  = tf.global_variables_initializer()"
   ]
  },
  {
   "cell_type": "code",
   "execution_count": 24,
   "metadata": {},
   "outputs": [
    {
     "name": "stdout",
     "output_type": "stream",
     "text": [
      "INFO:tensorflow:Restoring parameters from ./models/2019-05-10--16-40-09/model.ckpt\n",
      "-----[model/layer_00000/W:0         ]--------\n",
      "[[ 0.7627492  -0.00313599  0.3321067   0.46822044  0.06968354  0.36907607\n",
      "   0.3505179   0.13753852  0.09524152  0.28487554]\n",
      " [ 0.75459844 -0.02262615  0.60972726  0.62974614  0.4918534   0.3288203\n",
      "   0.27999717  0.21252342  0.68116593  0.47014427]]\n",
      "-----[model/layer_00000/b:0         ]--------\n",
      "[[0.30853215 0.37037417 0.35271388 0.34599015 0.3488921  0.3471873\n",
      "  0.3521927  0.3590715  0.3331551  0.34924993]]\n",
      "-----[model/layer_00001/W:0         ]--------\n",
      "[[-4.23153155e-02 -1.51918232e-01  5.67491353e-02  4.97146398e-01\n",
      "   3.27696145e-01]\n",
      " [ 4.43276197e-01  7.92495131e-01  4.50465530e-01  6.66887820e-01\n",
      "   8.89209449e-01]\n",
      " [ 2.97447681e-01  7.85757542e-01  5.33800840e-01  5.46275496e-01\n",
      "   3.97464544e-01]\n",
      " [ 4.58038628e-01  6.31498992e-01  1.50634989e-01  1.72377691e-01\n",
      "   6.55393124e-01]\n",
      " [ 9.04999793e-01  1.00471884e-01  3.95871907e-01  9.87170413e-02\n",
      "  -7.67018530e-04]\n",
      " [ 4.95717168e-01  4.09693539e-01  2.68080175e-01  4.18527961e-01\n",
      "   4.63561863e-01]\n",
      " [-6.63939957e-03  4.81696844e-01  7.43377686e-01  8.53320062e-01\n",
      "   3.40127110e-01]\n",
      " [ 8.74976575e-01  4.21587139e-01  9.31995809e-01  6.73706353e-01\n",
      "   6.47620717e-03]\n",
      " [ 2.41649121e-01 -7.28710145e-02  1.69280291e-01  4.74017411e-01\n",
      "   3.09454560e-01]\n",
      " [ 1.73415184e-01  8.59781325e-01  2.13005822e-02  1.88650787e-01\n",
      "   7.58746684e-01]]\n",
      "-----[model/layer_00001/b:0         ]--------\n",
      "[[0.36288783 0.36943692 0.36723453 0.36166507 0.34459865]]\n",
      "-----[model/layer_00002/W:0         ]--------\n",
      "[[0.31934792]\n",
      " [0.6859007 ]\n",
      " [0.4803353 ]\n",
      " [0.35521302]\n",
      " [0.15362675]]\n",
      "-----[model/layer_00002/b:0         ]--------\n",
      "[[0.3763599]]\n",
      "tensorboard --logdir=./logFolder/2019-05-10--17-05-30\n"
     ]
    }
   ],
   "source": [
    "summaryFolder = getNow()\n",
    "\n",
    "with tf.Session() as sess:\n",
    "    sess.run(init)\n",
    "    saver.restore(sess, savePath)\n",
    "    writer = tf.summary.FileWriter(summaryFolder, sess.graph)\n",
    "    \n",
    "    for i in range(1000):\n",
    "        sess.run(opt, feed_dict={inp: X, out: y})\n",
    "        \n",
    "    for v in graph.get_collection(tf.GraphKeys.TRAINABLE_VARIABLES):\n",
    "        print('-----[{:30s}]--------'.format(v.name))\n",
    "        print(v.eval())\n",
    "    \n",
    "    writer.close()\n",
    "    \n",
    "print('tensorboard --logdir={}'.format( summaryFolder ))"
   ]
  },
  {
   "cell_type": "code",
   "execution_count": null,
   "metadata": {
    "collapsed": true
   },
   "outputs": [],
   "source": []
  }
 ],
 "metadata": {
  "kernelspec": {
   "display_name": "Python 3",
   "language": "python",
   "name": "python3"
  },
  "language_info": {
   "codemirror_mode": {
    "name": "ipython",
    "version": 3
   },
   "file_extension": ".py",
   "mimetype": "text/x-python",
   "name": "python",
   "nbconvert_exporter": "python",
   "pygments_lexer": "ipython3",
   "version": "3.7.3"
  }
 },
 "nbformat": 4,
 "nbformat_minor": 2
}
